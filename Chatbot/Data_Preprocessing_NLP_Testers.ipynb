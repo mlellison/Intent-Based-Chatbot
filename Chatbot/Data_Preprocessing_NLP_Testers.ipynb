{
 "cells": [
  {
   "cell_type": "code",
   "execution_count": 934,
   "id": "fde9f020",
   "metadata": {},
   "outputs": [],
   "source": [
    "import pandas as pd\n",
    "import numpy as np\n",
    "import json\n",
    "import transformers\n",
    "\n",
    "import matplotlib.pyplot as plt\n",
    "%matplotlib inline"
   ]
  },
  {
   "cell_type": "code",
   "execution_count": 6,
   "id": "8fe2c283",
   "metadata": {},
   "outputs": [],
   "source": [
    "# http://insideairbnb.com/get-the-data/"
   ]
  },
  {
   "cell_type": "code",
   "execution_count": 839,
   "id": "e6971361",
   "metadata": {},
   "outputs": [],
   "source": [
    "# Import datasets \n",
    "\n",
    "listing = pd.read_csv('http://data.insideairbnb.com/china/hk/hong-kong/2022-06-14/data/listings.csv.gz')\n",
    "review = pd.read_csv('http://data.insideairbnb.com/china/hk/hong-kong/2022-06-14/data/reviews.csv.gz')\n",
    "vacancy = pd.read_csv('http://data.insideairbnb.com/china/hk/hong-kong/2022-06-14/data/calendar.csv.gz')\n",
    "\n",
    "listingViz = pd.read_csv('http://data.insideairbnb.com/china/hk/hong-kong/2022-06-14/visualisations/listings.csv')\n",
    "reviewDates = pd.read_csv('http://data.insideairbnb.com/china/hk/hong-kong/2022-06-14/visualisations/reviews.csv')"
   ]
  },
  {
   "cell_type": "code",
   "execution_count": 310,
   "id": "789db05a",
   "metadata": {},
   "outputs": [
    {
     "data": {
      "text/plain": [
       "Yau Tsim Mong        2079\n",
       "North                1460\n",
       "Wan Chai             1336\n",
       "Central & Western     992\n",
       "Yuen Long             536\n",
       "Islands               308\n",
       "Kowloon City          243\n",
       "Eastern               202\n",
       "Sham Shui Po          146\n",
       "Sai Kung               96\n",
       "Southern               49\n",
       "Sha Tin                47\n",
       "Tuen Mun               39\n",
       "Kwun Tong              31\n",
       "Tai Po                 27\n",
       "Tsuen Wan              17\n",
       "Kwai Tsing              7\n",
       "Wong Tai Sin            5\n",
       "Name: neighbourhood, dtype: int64"
      ]
     },
     "execution_count": 310,
     "metadata": {},
     "output_type": "execute_result"
    }
   ],
   "source": [
    "listingViz.neighbourhood.value_counts()"
   ]
  },
  {
   "cell_type": "code",
   "execution_count": 411,
   "id": "68427601",
   "metadata": {},
   "outputs": [
    {
     "data": {
      "text/plain": [
       "'518000'"
      ]
     },
     "execution_count": 411,
     "metadata": {},
     "output_type": "execute_result"
    }
   ],
   "source": [
    "item = listingViz[listingViz.id == 51677836].index[0]\n",
    "address, (latitude, longitude) = geolocator.reverse((listingViz.latitude[item], listingViz.longitude[item]), language='en')\n",
    "address.split(', ')[-2]"
   ]
  },
  {
   "cell_type": "markdown",
   "id": "9659292d",
   "metadata": {},
   "source": [
    "### Data Preproc: Removing non-HK listings"
   ]
  },
  {
   "cell_type": "code",
   "execution_count": 300,
   "id": "d07b06b5",
   "metadata": {},
   "outputs": [],
   "source": [
    "from geopy.geocoders import Nominatim\n",
    "geolocator = Nominatim(user_agent=\"geoapiExercises\")\n",
    "address, (latitude, longitude) = geolocator.reverse(\"22.24072, 113.97625\", language='en')\n",
    "address.split(', ')"
   ]
  },
  {
   "cell_type": "code",
   "execution_count": 452,
   "id": "94098303",
   "metadata": {},
   "outputs": [],
   "source": [
    "# districts that may contain non-HK listings, ie Shenzhen addresses\n",
    "\n",
    "dfSearch = listingViz.loc[listingViz.neighbourhood.isin(['North', 'Yuen Long', 'Tsuen Wan', 'Tai Po', 'Tuen Mun']), : ]"
   ]
  },
  {
   "cell_type": "code",
   "execution_count": 453,
   "id": "6012c10b",
   "metadata": {},
   "outputs": [
    {
     "data": {
      "text/plain": [
       "(2079, 18)"
      ]
     },
     "execution_count": 453,
     "metadata": {},
     "output_type": "execute_result"
    }
   ],
   "source": [
    "dfSearch.shape"
   ]
  },
  {
   "cell_type": "code",
   "execution_count": 454,
   "id": "f50d3b54",
   "metadata": {},
   "outputs": [
    {
     "data": {
      "text/plain": [
       "1947"
      ]
     },
     "execution_count": 454,
     "metadata": {},
     "output_type": "execute_result"
    }
   ],
   "source": [
    "# listings are Chinese addresses\n",
    "\n",
    "chinaId = list()\n",
    "\n",
    "for i in range(len(dfSearch)):\n",
    "    address, (latitude, longitude) = geolocator.reverse((dfSearch.latitude.iloc[i], dfSearch.longitude.iloc[i]), language='en')\n",
    "    if address.split(', ')[-2] != 'Hong Kong':\n",
    "        chinaId.append(dfSearch.id.iloc[i])\n",
    "        \n",
    "len(chinaId)"
   ]
  },
  {
   "cell_type": "code",
   "execution_count": 456,
   "id": "ec4a2ea1",
   "metadata": {},
   "outputs": [
    {
     "data": {
      "text/plain": [
       "21998"
      ]
     },
     "execution_count": 456,
     "metadata": {},
     "output_type": "execute_result"
    }
   ],
   "source": [
    "# how many reviews out of >100K are non-HK\n",
    "counter = 0 \n",
    "\n",
    "for i in review.listing_id:\n",
    "    if i in chinaId:\n",
    "        counter+=1\n",
    "counter"
   ]
  },
  {
   "cell_type": "code",
   "execution_count": 480,
   "id": "8c3c974a",
   "metadata": {},
   "outputs": [
    {
     "data": {
      "text/plain": [
       "119156"
      ]
     },
     "execution_count": 480,
     "metadata": {},
     "output_type": "execute_result"
    }
   ],
   "source": [
    "len(review) #97158 expected"
   ]
  },
  {
   "cell_type": "code",
   "execution_count": 487,
   "id": "413d48d2",
   "metadata": {},
   "outputs": [],
   "source": [
    "reviewHk = review.copy()"
   ]
  },
  {
   "cell_type": "code",
   "execution_count": 489,
   "id": "eee18eba",
   "metadata": {},
   "outputs": [
    {
     "data": {
      "text/plain": [
       "(97158, 6)"
      ]
     },
     "execution_count": 489,
     "metadata": {},
     "output_type": "execute_result"
    }
   ],
   "source": [
    "for i in chinaId:\n",
    "    reviewHk.drop(reviewHk[reviewHk.listing_id == i].index, inplace=True)\n",
    "\n",
    "#reviewHK.to_csv('./data/reviewHk.csv', index=False)\n",
    "reviewHk.shape"
   ]
  },
  {
   "cell_type": "code",
   "execution_count": 502,
   "id": "88feea41",
   "metadata": {},
   "outputs": [
    {
     "data": {
      "text/plain": [
       "(5673, 74)"
      ]
     },
     "execution_count": 502,
     "metadata": {},
     "output_type": "execute_result"
    }
   ],
   "source": [
    "listingHk = listing.copy()\n",
    "\n",
    "for i in chinaId:\n",
    "    listingHk.drop(listingHk[listingHk.id == i].index, inplace=True)\n",
    "\n",
    "listingHk.to_csv('./data/listingHk.csv', index=False)\n",
    "listingHk.shape"
   ]
  },
  {
   "cell_type": "code",
   "execution_count": 501,
   "id": "775f5187",
   "metadata": {},
   "outputs": [
    {
     "data": {
      "text/plain": [
       "(2070280, 7)"
      ]
     },
     "execution_count": 501,
     "metadata": {},
     "output_type": "execute_result"
    }
   ],
   "source": [
    "vacancyHk = vacancy.copy()\n",
    "\n",
    "for i in chinaId:\n",
    "    vacancyHk.drop(vacancyHk[vacancyHk.listing_id == i].index, inplace=True)\n",
    "\n",
    "vacancyHk.to_csv('./data/vacancyHk.csv', index=False)\n",
    "vacancyHk.shape"
   ]
  },
  {
   "cell_type": "code",
   "execution_count": 503,
   "id": "bbf4bf0a",
   "metadata": {},
   "outputs": [
    {
     "data": {
      "text/plain": [
       "(5673, 18)"
      ]
     },
     "execution_count": 503,
     "metadata": {},
     "output_type": "execute_result"
    }
   ],
   "source": [
    "listingVizhk = listingViz.copy()\n",
    "\n",
    "for i in chinaId:\n",
    "    listingVizhk.drop(listingVizhk[listingVizhk.id == i].index, inplace=True)\n",
    "\n",
    "listingVizhk.to_csv('./data/listingVizhk.csv', index=False)\n",
    "listingVizhk.shape"
   ]
  },
  {
   "cell_type": "markdown",
   "id": "c7de78d5",
   "metadata": {},
   "source": [
    "### Experiment with Summarization Pipeline"
   ]
  },
  {
   "cell_type": "code",
   "execution_count": 877,
   "id": "18b0c2bc",
   "metadata": {},
   "outputs": [],
   "source": [
    "from transformers import pipeline\n",
    "\n",
    "summarizer = pipeline('summarization', model='knkarthick/MEETING_SUMMARY', max_length=48)"
   ]
  },
  {
   "cell_type": "code",
   "execution_count": 854,
   "id": "1cd57bcc",
   "metadata": {},
   "outputs": [],
   "source": [
    "reviewHkEn = pd.read_csv('./data/reviewHkEn.csv')"
   ]
  },
  {
   "cell_type": "code",
   "execution_count": 940,
   "id": "782f6658",
   "metadata": {},
   "outputs": [
    {
     "name": "stdout",
     "output_type": "stream",
     "text": [
      "mabel and ramon have an amazing villa! we spent two wonderful night with them and their lovely dog. you can enjoy romantic barbecue night and lovely breakfast along the poolside, they even prepared the candle!   a real nice escape from hustle and bustle, surrounded by nature (you will find squirrels and perfect sunshine while breakfast), definitely recommended! \n",
      "\n",
      " summarized text:\n",
      " Mabel and Ramon have an amazing villa. They invited us for a romantic barbecue night and breakfast at the poolside.\n"
     ]
    }
   ],
   "source": [
    "text = reviewHkEn.commentsEn[95768]\n",
    "#text = \"This studio off-apart are approximately 210 sqft, have double bed, 1 bathroom with separated shower, located in 4th floor with building lift, security key card access to main door and to your room, with natural light, work desk spacious and storage. Located in heart of Tsim Sha Tsui, a district decorated with Hong Kong's famous neon lights. Around the corner from the MTR and multiple bus links, supermarkets and shopping malls.\"\n",
    "print(text, '\\n\\n', 'summarized text:\\n',summarizer(text)[0].get('summary_text'))"
   ]
  },
  {
   "cell_type": "markdown",
   "id": "71313f3f",
   "metadata": {},
   "source": [
    "### Experiment with Zero Shot Text Classifiers"
   ]
  },
  {
   "cell_type": "code",
   "execution_count": 12,
   "id": "f1765fea",
   "metadata": {},
   "outputs": [],
   "source": [
    "# https://analyticsindiamag.com/a-complete-tutorial-on-zero-shot-text-classification/"
   ]
  },
  {
   "cell_type": "code",
   "execution_count": 4,
   "id": "1ee4e779",
   "metadata": {},
   "outputs": [],
   "source": [
    "classifier = transformers.pipeline('zero-shot-classification', \n",
    "                                   model='facebook/bart-large-mnli')"
   ]
  },
  {
   "cell_type": "code",
   "execution_count": 838,
   "id": "5aa9412d",
   "metadata": {},
   "outputs": [
    {
     "data": {
      "text/plain": [
       "\"the apartment on holly wood rd was exactly as described. it was a comfortable and very convenient base for our two week holiday. our host was very forthcoming in answering queries and giving us some local tips. i would definitely recommend candace's place to friends and would have no hesitation in booking it again when planning another trip to hk.\""
      ]
     },
     "execution_count": 838,
     "metadata": {},
     "output_type": "execute_result"
    }
   ],
   "source": [
    "rev[0]"
   ]
  },
  {
   "cell_type": "code",
   "execution_count": null,
   "id": "430f6858",
   "metadata": {},
   "outputs": [],
   "source": [
    "# family vs romantic etc, near city, quiet, etc"
   ]
  },
  {
   "cell_type": "code",
   "execution_count": 687,
   "id": "c623331a",
   "metadata": {},
   "outputs": [
    {
     "data": {
      "text/plain": [
       "{'sequence': \"the apartment on holly wood rd was exactly as described. it was a comfortable and very convenient base for our two week holiday. our host was very forthcoming in answering queries and giving us some local tips. i would definitely recommend candace's place to friends and would have no hesitation in booking it again when planning another trip to hk.\",\n",
       " 'labels': ['good comfort',\n",
       "  'amenities',\n",
       "  'central location',\n",
       "  'peaceful',\n",
       "  'strict'],\n",
       " 'scores': [0.6978234052658081,\n",
       "  0.1472613364458084,\n",
       "  0.08935888111591339,\n",
       "  0.050628989934921265,\n",
       "  0.014927397482097149]}"
      ]
     },
     "execution_count": 687,
     "metadata": {},
     "output_type": "execute_result"
    }
   ],
   "source": [
    "sequence_to_classify = reviewHkEn.commentsEn[:100]\n",
    "candidate_labels = ['central location', 'good comfort', 'strict', 'amenities', 'peaceful']\n",
    "classifier(sequence_to_classify, candidate_labels, multi_label=False)"
   ]
  },
  {
   "cell_type": "code",
   "execution_count": 198,
   "id": "a954a2e9",
   "metadata": {},
   "outputs": [
    {
     "data": {
      "text/plain": [
       "{'sequence': 'ROOM for 2 persons !!!  right in Wanchai.<br />with LIFT.<br /><br />it is soooo close to Times Square. There is a nice cinema there so you can walk there in your pyjamas to go and catch a movie and just WALK HOME after !<br /><br />many FRESH meat and FRESH vegetables and fruits just 3 mins walk away.<br /><br />There is a bus stop right in front  , around the corner of the building that will bring you to Kowloon within mins !!!<br /><br />Super convenient area.  Quiet too !<br /><br /><b>Other things to note</b><br />there is a flatshare agreement need to sign.<br />electricity bill is not included. is shared pro-rata<br />there is refundable key deposit 500<br />stamp duty tax about 60',\n",
       " 'labels': ['amenities',\n",
       "  'comfortable',\n",
       "  'central location',\n",
       "  'peaceful',\n",
       "  'strict'],\n",
       " 'scores': [0.4136751890182495,\n",
       "  0.274139404296875,\n",
       "  0.13172298669815063,\n",
       "  0.12690317630767822,\n",
       "  0.05355919525027275]}"
      ]
     },
     "execution_count": 198,
     "metadata": {},
     "output_type": "execute_result"
    }
   ],
   "source": [
    "classifier1(sequence_to_classify, candidate_labels, multi_label=False)   "
   ]
  }
 ],
 "metadata": {
  "kernelspec": {
   "display_name": "Python 3 (ipykernel)",
   "language": "python",
   "name": "python3"
  },
  "language_info": {
   "codemirror_mode": {
    "name": "ipython",
    "version": 3
   },
   "file_extension": ".py",
   "mimetype": "text/x-python",
   "name": "python",
   "nbconvert_exporter": "python",
   "pygments_lexer": "ipython3",
   "version": "3.9.12"
  }
 },
 "nbformat": 4,
 "nbformat_minor": 5
}
