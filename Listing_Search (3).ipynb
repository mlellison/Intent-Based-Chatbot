{
 "cells": [
  {
   "cell_type": "code",
   "execution_count": 1,
   "id": "f0f16c60",
   "metadata": {},
   "outputs": [],
   "source": [
    "import pandas as pd\n",
    "import numpy as np\n",
    "import math\n",
    "import spacy\n",
    "import ast\n",
    "#!pip install -qq -U gensim\n",
    "from gensim.matutils import cossim"
   ]
  },
  {
   "cell_type": "code",
   "execution_count": 2,
   "id": "f3024892",
   "metadata": {},
   "outputs": [
    {
     "name": "stdout",
     "output_type": "stream",
     "text": [
      "date range: 2022-06-14 00:00:00 ,  2023-06-13 00:00:00\n"
     ]
    }
   ],
   "source": [
    "# load datasets\n",
    "vacancyHk = pd.read_csv('./data/vacancyHk.csv')\n",
    "listingHk = pd.read_csv('./data/listingHk.csv')\n",
    "topics = pd.read_csv('./data/listingTopics.csv')\n",
    "\n",
    "# convert to datetime\n",
    "vacancyHk.date = pd.to_datetime(vacancyHk.date)\n",
    "print('date range:',vacancyHk.date.min(),', ', vacancyHk.date.max())\n",
    "\n",
    "# reset the index for searching\n",
    "topics.set_index('id', inplace=True)"
   ]
  },
  {
   "cell_type": "markdown",
   "id": "079561ec",
   "metadata": {},
   "source": [
    "### Primary Listings Search \n",
    "#### Check-in/out dates, number of Guests"
   ]
  },
  {
   "cell_type": "code",
   "execution_count": 3,
   "id": "0348eeeb",
   "metadata": {},
   "outputs": [],
   "source": [
    "# function that returns avail listings for dates selected\n",
    "\n",
    "def searchListing(checkIn = '2022-06-14', checkOut = '2023-06-13', numGuests = 2):\n",
    "    # convert dates to datetime and get length of stay\n",
    "    checkIn, checkOut = pd.to_datetime(checkIn), pd.to_datetime(checkOut)\n",
    "    stayLen = int((checkOut - checkIn) / np.timedelta64(1, 'D'))\n",
    "    \n",
    "    # return listings that match chosen period of stay\n",
    "    dfStay = vacancyHk.query('minimum_nights >= @stayLen <= maximum_nights').query('date >= @checkIn and date < @checkOut') \n",
    "    dfList = dfStay.groupby('listing_id').date.count()\n",
    "    availListing = [dfList.index[i] for i in range(len(dfList)) if dfList.values[i] == stayLen]\n",
    "    \n",
    "    # return listings that match number of guests, period of stay\n",
    "    return [listing for listing in availListing \n",
    "            if listingHk[listingHk.id == listing].accommodates.values[0] >= numGuests]"
   ]
  },
  {
   "cell_type": "code",
   "execution_count": 4,
   "id": "0d7e194e",
   "metadata": {},
   "outputs": [],
   "source": [
    "checkIn, checkOut, numGuests = '2022-06-14', '2022-06-17', 7"
   ]
  },
  {
   "cell_type": "code",
   "execution_count": 5,
   "id": "f04f2820",
   "metadata": {},
   "outputs": [
    {
     "name": "stdout",
     "output_type": "stream",
     "text": [
      "[263081, 634726, 767022, 1060831, 1944230, 3351826, 3596518, 4179484, 5535344, 6098189, 8207213, 13319328, 14597370, 14902788, 16397688, 16569102, 17684789, 17976109, 21445033, 21454604, 21961333, 22230848, 22297626, 22326498, 22557402, 24289471, 26091331, 26339244, 28526041, 28697889, 28703025, 29837246, 29846996, 30433974, 30484205, 31363590, 32367951, 32852017, 33666696, 35013083, 35696417, 35754300, 35831647, 36865774, 37239063, 37758911, 37945457, 38886826, 44204917, 45195060, 45942492, 46382786, 48760036, 50462322, 52772049, 571999270476425993, 579321019303570754, 583210465090101127, 585684633125306175, 596542152043732856, 608155320545616454, 636103359466288775, 640315573036293518]\n",
      "1.59 s ± 0 ns per loop (mean ± std. dev. of 1 run, 1 loop each)\n"
     ]
    }
   ],
   "source": [
    "%%timeit -r 1 -n 1   # r: repeat, n: number\n",
    "# check avail listings\n",
    "print(searchListing(checkIn, checkOut, numGuests))"
   ]
  },
  {
   "cell_type": "markdown",
   "id": "4f0edccc",
   "metadata": {},
   "source": [
    "### Secondary Filtering"
   ]
  },
  {
   "cell_type": "markdown",
   "id": "26b70597",
   "metadata": {},
   "source": [
    "#### Rank search results by listings with similar price range"
   ]
  },
  {
   "cell_type": "code",
   "execution_count": 6,
   "id": "facfbe20",
   "metadata": {
    "scrolled": true
   },
   "outputs": [],
   "source": [
    "def filterPrice(listingId):\n",
    "    # create df of primary search listings, organized by price bins\n",
    "    df = pd.qcut(pd.to_numeric(\n",
    "        listingHk[listingHk.id.isin(searchListing(checkIn, checkOut, numGuests))].price.str.replace(',','', regex=False).str.replace('$','', regex=False)),\n",
    "                 [0, 0.25, 0.5, 0.75, 1]).to_frame()\n",
    "    df['id'] = listingHk[listingHk.id.isin(searchListing(checkIn, checkOut, numGuests))].id.to_list()\n",
    "\n",
    "    # return list of ten listings matching price bin of selected listing\n",
    "    return df[df.price == df[df.id == listingId].price.values[0]].id.to_list()[1:]"
   ]
  },
  {
   "cell_type": "code",
   "execution_count": 7,
   "id": "dfdcf4e0",
   "metadata": {},
   "outputs": [
    {
     "name": "stdout",
     "output_type": "stream",
     "text": [
      "[767022, 1060831, 21454604, 22297626, 21961333, 26091331, 28526041, 32852017, 35754300, 35831647, 36865774, 37945457, 38886826, 571999270476425993, 579321019303570754]\n",
      "3.01 s ± 0 ns per loop (mean ± std. dev. of 1 run, 1 loop each)\n"
     ]
    }
   ],
   "source": [
    "%%timeit -r 1 -n 1 \n",
    "# running the function\n",
    "listingId = 263081\n",
    "print(filterPrice(listingId))"
   ]
  },
  {
   "cell_type": "markdown",
   "id": "a8855a76",
   "metadata": {},
   "source": [
    "#### Rank search results by listings with similar descriptors"
   ]
  },
  {
   "cell_type": "code",
   "execution_count": 8,
   "id": "f1b5d696",
   "metadata": {},
   "outputs": [],
   "source": [
    "# function to filter for listings with similar descriptors\n",
    "\n",
    "def filterDesc(listingId):\n",
    "    dictScore = dict()\n",
    "    \n",
    "    # calculate similarity scores of selected listing and all listings\n",
    "    for listing in searchListing(checkIn, checkOut, numGuests):#dictListing.keys():\n",
    "        dictScore[listing] = cossim(dict([tuple(el.value for el in i.elts) for i in ast.parse(topics.topics[listingId]).body[0].value.elts]), \n",
    "                                    dict([tuple(el.value for el in i.elts) for i in ast.parse(topics.topics[listing]).body[0].value.elts]))\n",
    "\n",
    "    # return up to top ten listing matches with similar amenities\n",
    "    return [key for key in dict(sorted(dictScore.items(), key=lambda item: item[1], reverse = True)).keys()][1:11]"
   ]
  },
  {
   "cell_type": "code",
   "execution_count": 9,
   "id": "9bf5c4e4",
   "metadata": {},
   "outputs": [
    {
     "name": "stdout",
     "output_type": "stream",
     "text": [
      "[579321019303570754, 3596518, 8207213, 1944230, 22297626, 571999270476425993, 583210465090101127, 3351826, 13319328, 26091331]\n",
      "1.54 s ± 0 ns per loop (mean ± std. dev. of 1 run, 1 loop each)\n"
     ]
    }
   ],
   "source": [
    "%%timeit -r 1 -n 1 \n",
    "# running the function\n",
    "listingId = 263081\n",
    "print(filterDesc(listingId))"
   ]
  },
  {
   "cell_type": "markdown",
   "id": "7e34b79a",
   "metadata": {},
   "source": [
    "#### Rank search results by distance"
   ]
  },
  {
   "cell_type": "code",
   "execution_count": 10,
   "id": "ff2a7a28",
   "metadata": {},
   "outputs": [],
   "source": [
    "# function to rank listings by distance\n",
    "\n",
    "def filterDistance(listingId):\n",
    "    df = pd.DataFrame(listingHk[listingHk.id.isin(searchListing(checkIn, checkOut, numGuests))].id.to_list(), columns=['id'])\n",
    "    df['distance'] = [\n",
    "    math.dist(\n",
    "        (listingHk[listingHk.id == listingId].longitude.to_list()[0], \n",
    "         listingHk[listingHk.id == listingId].latitude.to_list()[0]), \n",
    "        (listingHk[listingHk.id.isin(searchListing(checkIn, checkOut, numGuests))].longitude.to_list()[i], \n",
    "         listingHk[listingHk.id.isin(searchListing(checkIn, checkOut, numGuests))].latitude.to_list()[i])\n",
    "        ) for i in range(len(df))]\n",
    "    df.sort_values(by='distance', inplace=True)\n",
    "    return df.id.to_list()[1:]  # return nearest listings other than self"
   ]
  },
  {
   "cell_type": "code",
   "execution_count": 18,
   "id": "d0457e0b",
   "metadata": {},
   "outputs": [
    {
     "name": "stdout",
     "output_type": "stream",
     "text": [
      "[14902788, 4179484, 16397688, 634726, 28703025, 30433974, 28526041, 636103359466288775, 22326498, 45195060, 21445033, 35754300, 585684633125306175, 22230848, 28697889, 48760036, 29846996, 21454604, 29837246, 37945457, 263081, 33666696, 26339244, 32367951, 44204917, 46382786, 35696417, 26091331, 6098189, 17684789, 22557402, 31363590, 14597370, 596542152043732856, 21961333, 32852017, 45942492, 35831647, 36865774, 37758911, 37239063, 640315573036293518, 608155320545616454, 24289471, 50462322, 16569102, 35013083, 17976109, 767022, 5535344, 3351826, 3596518, 579321019303570754, 8207213, 1944230, 22297626, 1060831, 13319328, 571999270476425993, 38886826, 52772049, 583210465090101127]\n"
     ]
    }
   ],
   "source": [
    "listingId = 30484205\n",
    "print(filterDistance(listingId))"
   ]
  },
  {
   "cell_type": "markdown",
   "id": "09082c95",
   "metadata": {},
   "source": [
    "#### Rank search results by listings with similar amenities"
   ]
  },
  {
   "cell_type": "code",
   "execution_count": 13,
   "id": "8b6509af",
   "metadata": {},
   "outputs": [],
   "source": [
    "nlp = spacy.load('en_core_web_lg')  # large pipeline pkg contain word vectors"
   ]
  },
  {
   "cell_type": "code",
   "execution_count": 14,
   "id": "c1eb7c5c",
   "metadata": {},
   "outputs": [],
   "source": [
    "from spacy.tokens import DocBin\n",
    "\n",
    "# Deserialize spacy file containing all amenities word embeddings\n",
    "doc_bin = DocBin().from_disk('./data/amenities.spacy')\n",
    "docs = list(doc_bin.get_docs(nlp.vocab))\n",
    "\n",
    "# Loading spacy text into dict values with listing_ids as key\n",
    "dictListing = dict()\n",
    "for idx in range(len(listingHk)):\n",
    "    dictListing[listingHk.id[idx]] = docs[idx]"
   ]
  },
  {
   "cell_type": "code",
   "execution_count": 15,
   "id": "a153b967",
   "metadata": {},
   "outputs": [],
   "source": [
    "# function to filter for listings with similar amenties\n",
    "\n",
    "def filterAmenities(listingId):\n",
    "    dictScore = dict()\n",
    "    \n",
    "    # calculate similarity scores of selected listing and all listings\n",
    "    for listing in searchListing(checkIn, checkOut, numGuests):#dictListing.keys():\n",
    "        dictScore[listing] = dictListing[listingId].similarity(dictListing[listing])\n",
    "\n",
    "    # return up to top ten listing matches with similar amenities\n",
    "    return [key for key in dict(sorted(dictScore.items(), key=lambda item: item[1], reverse = True)).keys()][1:11]"
   ]
  },
  {
   "cell_type": "code",
   "execution_count": 16,
   "id": "ce78cb17",
   "metadata": {},
   "outputs": [
    {
     "name": "stdout",
     "output_type": "stream",
     "text": [
      "[767022, 636103359466288775, 37239063, 4179484, 585684633125306175, 634726, 38886826, 35831647, 16569102, 17976109]\n",
      "1.53 s ± 0 ns per loop (mean ± std. dev. of 1 run, 1 loop each)\n"
     ]
    }
   ],
   "source": [
    "%%timeit -r 1 -n 1\n",
    "\n",
    "# running the function\n",
    "listingId = 263081\n",
    "print(filterAmenities(listingId))"
   ]
  },
  {
   "cell_type": "code",
   "execution_count": null,
   "id": "ab3a4787",
   "metadata": {},
   "outputs": [],
   "source": []
  },
  {
   "cell_type": "code",
   "execution_count": 17,
   "id": "1e832448",
   "metadata": {},
   "outputs": [],
   "source": [
    "# Code to process all amentities text then serialize and save to file\n",
    "doc_bin = DocBin(attrs=[\"LEMMA\", \"ENT_IOB\", \"ENT_TYPE\"], store_user_data=False)\n",
    "\n",
    "# processing all amenities text through spacy for purpose of word embeddings\n",
    "for listing in range(len(listingHk)):\n",
    "    doc_bin.add(nlp(listingHk.amenities.values[listing].replace('[\"','').replace('\"]','').replace(',','').replace('\"','').lower()))\n",
    "\n",
    "# saving processed text to disk\n",
    "#doc_bin.to_disk('./data/amenities.spacy')"
   ]
  },
  {
   "cell_type": "code",
   "execution_count": null,
   "id": "2ef8fdbe",
   "metadata": {},
   "outputs": [],
   "source": []
  }
 ],
 "metadata": {
  "kernelspec": {
   "display_name": "Python 3 (ipykernel)",
   "language": "python",
   "name": "python3"
  },
  "language_info": {
   "codemirror_mode": {
    "name": "ipython",
    "version": 3
   },
   "file_extension": ".py",
   "mimetype": "text/x-python",
   "name": "python",
   "nbconvert_exporter": "python",
   "pygments_lexer": "ipython3",
   "version": "3.9.12"
  }
 },
 "nbformat": 4,
 "nbformat_minor": 5
}
